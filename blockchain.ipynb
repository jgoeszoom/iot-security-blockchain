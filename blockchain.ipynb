{
 "cells": [
  {
   "cell_type": "markdown",
   "id": "3e9c627f",
   "metadata": {},
   "source": [
    "# Implementing Blockchain for IOT Security"
   ]
  },
  {
   "cell_type": "code",
   "execution_count": 1,
   "id": "95331abf",
   "metadata": {},
   "outputs": [],
   "source": [
    "import hashlib"
   ]
  },
  {
   "cell_type": "code",
   "execution_count": 3,
   "id": "1f6a4b37",
   "metadata": {},
   "outputs": [
    {
     "data": {
      "text/plain": [
       "'95d3fe7c2d46ccf69357159bc6f65540f8cbe48ee13464be4898350b'"
      ]
     },
     "execution_count": 3,
     "metadata": {},
     "output_type": "execute_result"
    }
   ],
   "source": [
    "hashlib.sha224(b\"This is a test!\").hexdigest()"
   ]
  },
  {
   "cell_type": "code",
   "execution_count": null,
   "id": "15631214",
   "metadata": {},
   "outputs": [],
   "source": []
  }
 ],
 "metadata": {
  "kernelspec": {
   "display_name": "Python 3 (ipykernel)",
   "language": "python",
   "name": "python3"
  },
  "language_info": {
   "codemirror_mode": {
    "name": "ipython",
    "version": 3
   },
   "file_extension": ".py",
   "mimetype": "text/x-python",
   "name": "python",
   "nbconvert_exporter": "python",
   "pygments_lexer": "ipython3",
   "version": "3.7.1"
  }
 },
 "nbformat": 4,
 "nbformat_minor": 5
}
