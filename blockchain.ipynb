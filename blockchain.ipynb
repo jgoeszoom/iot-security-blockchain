{
 "cells": [
  {
   "cell_type": "markdown",
   "id": "3e9c627f",
   "metadata": {},
   "source": [
    "# Implementing Blockchain for IOT Security"
   ]
  },
  {
   "cell_type": "code",
   "execution_count": 1,
   "id": "95331abf",
   "metadata": {},
   "outputs": [],
   "source": [
    "import hashlib\n",
    "import json\n",
    "from time import time"
   ]
  },
  {
   "cell_type": "code",
   "execution_count": 4,
   "id": "1f6a4b37",
   "metadata": {},
   "outputs": [],
   "source": [
    "class blockchain(object):\n",
    "\n",
    "    # Class initializer\n",
    "    # Self is passed to initializer has ref. to new object being instantiated\n",
    "    def __init__(self): \n",
    "        # Instance Attributes\n",
    "        self.chain = []\n",
    "        self.current_transaction = []\n",
    "\n",
    "    def createBlock(self):\n",
    "        # Creates a new block and adds it to the chain\n",
    "        pass\n",
    "\n",
    "    def addTransaction(self):\n",
    "        # Adds a new transaction to the list of transactions\n",
    "        pass\n",
    "\n",
    "    # Static methods cannot access class attributes or instance attributes\n",
    "    # Instance attributes are variables belonging to a singular object\n",
    "    @staticmethod\n",
    "    def hash(block):\n",
    "        # Hashses a block\n",
    "        pass\n",
    "\n",
    "    # Akin to making a getter function the Pythonic way\n",
    "    @property\n",
    "    def getLastBlock(self):\n",
    "        # Retruns the last clock in the chain\n",
    "        pass"
   ]
  },
  {
   "cell_type": "code",
   "execution_count": null,
   "id": "15631214",
   "metadata": {},
   "outputs": [],
   "source": []
  }
 ],
 "metadata": {
  "kernelspec": {
   "display_name": "Python 3 (ipykernel)",
   "language": "python",
   "name": "python3"
  },
  "language_info": {
   "codemirror_mode": {
    "name": "ipython",
    "version": 3
   },
   "file_extension": ".py",
   "mimetype": "text/x-python",
   "name": "python",
   "nbconvert_exporter": "python",
   "pygments_lexer": "ipython3",
   "version": "3.7.1"
  }
 },
 "nbformat": 4,
 "nbformat_minor": 5
}
